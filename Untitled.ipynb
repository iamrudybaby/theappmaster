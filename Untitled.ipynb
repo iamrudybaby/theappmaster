{
 "cells": [
  {
   "cell_type": "code",
   "execution_count": 3,
   "id": "0a2587d1",
   "metadata": {},
   "outputs": [],
   "source": [
    "import streamlit as st"
   ]
  },
  {
   "cell_type": "code",
   "execution_count": 13,
   "id": "c8e66d4c",
   "metadata": {},
   "outputs": [
    {
     "name": "stdout",
     "output_type": "stream",
     "text": [
      "Overwriting calc.py\n"
     ]
    }
   ],
   "source": [
    "%%writefile calc.py\n",
    "import streamlit as st\n",
    "\n",
    "st.header(\"welcome to my calculator\")\n",
    "\n",
    "x=st.number_input('input your first number')\n",
    "y=st.number_input('input your second number')\n",
    "\n",
    "if st.button('Add'):\n",
    "    z=x+y\n",
    "    st.write(z)\n",
    "if st.button('subtract'):\n",
    "    z=x-y\n",
    "    st.write(z)"
   ]
  },
  {
   "cell_type": "code",
   "execution_count": 8,
   "id": "9cda85f6",
   "metadata": {},
   "outputs": [
    {
     "name": "stdout",
     "output_type": "stream",
     "text": [
      "^C\n"
     ]
    }
   ],
   "source": [
    "!streamlit run calc.py"
   ]
  }
 ],
 "metadata": {
  "kernelspec": {
   "display_name": "Python 3 (ipykernel)",
   "language": "python",
   "name": "python3"
  },
  "language_info": {
   "codemirror_mode": {
    "name": "ipython",
    "version": 3
   },
   "file_extension": ".py",
   "mimetype": "text/x-python",
   "name": "python",
   "nbconvert_exporter": "python",
   "pygments_lexer": "ipython3",
   "version": "3.9.7"
  }
 },
 "nbformat": 4,
 "nbformat_minor": 5
}
